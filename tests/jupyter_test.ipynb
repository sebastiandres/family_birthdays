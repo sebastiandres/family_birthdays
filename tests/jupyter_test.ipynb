{
 "cells": [
  {
   "cell_type": "markdown",
   "metadata": {},
   "source": [
    "# Cumpleaños Familiares - Family Birthdays\n",
    "\n",
    "La documentación se encuentra en https://readthedocs.org/projects/family_birthdays/"
   ]
  },
  {
   "cell_type": "markdown",
   "metadata": {},
   "source": [
    "## 1. Instalar la librería\n",
    "\n",
    "La instalación de la librería es directa. No se requieren librerías adicionales."
   ]
  },
  {
   "cell_type": "code",
   "execution_count": null,
   "metadata": {},
   "outputs": [],
   "source": [
    "!pip install git+https://github.com/sebastiandres/family_birthdays"
   ]
  },
  {
   "cell_type": "markdown",
   "metadata": {},
   "source": [
    "## 2. Los datos\n",
    "Definamos los datos que se usarán en el cálculo y calculemos los cumpleaños."
   ]
  },
  {
   "cell_type": "code",
   "execution_count": null,
   "metadata": {},
   "outputs": [],
   "source": [
    "from family_birthdays import SimulationInterface\n",
    "\n",
    "birthdates = {\"Captain America\":\"04-07-1918\",\n",
    "              \"Ironman\":\"29-05-1970\",\n",
    "              \"Spiderman\":\"10-08-2001\",\n",
    "              \"Batman\":\"17-04-1915\",\n",
    "              \"Hulk\":\"18-12-1969\",\n",
    "}\n",
    "\n",
    "\n",
    "SI = SimulationInterface()\n",
    "SI.new({\"birthdates\":birthdates})\n",
    "SI.simulate()"
   ]
  },
  {
   "cell_type": "markdown",
   "metadata": {},
   "source": [
    "## 3. Using the SimulationInterface"
   ]
  },
  {
   "cell_type": "markdown",
   "metadata": {},
   "source": [
    "## 3. Opcional\n",
    "Puedes saber información sobre las características del sistema donde se está ejecutando (en este caso, MyBinder o en tu local), python, las librerías y los datos."
   ]
  },
  {
   "cell_type": "code",
   "execution_count": null,
   "metadata": {},
   "outputs": [],
   "source": [
    "SI.status()"
   ]
  }
 ],
 "metadata": {
  "kernelspec": {
   "display_name": "Python 3",
   "language": "python",
   "name": "python3"
  },
  "language_info": {
   "codemirror_mode": {
    "name": "ipython",
    "version": 3
   },
   "file_extension": ".py",
   "mimetype": "text/x-python",
   "name": "python",
   "nbconvert_exporter": "python",
   "pygments_lexer": "ipython3",
   "version": "3.7.4"
  }
 },
 "nbformat": 4,
 "nbformat_minor": 2
}
